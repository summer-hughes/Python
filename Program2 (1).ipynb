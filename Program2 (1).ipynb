{
 "cells": [
  {
   "cell_type": "code",
   "execution_count": 76,
   "id": "3a47f67b",
   "metadata": {},
   "outputs": [
    {
     "name": "stdout",
     "output_type": "stream",
     "text": [
      "Please enter the number of cars: 2\n",
      "Please enter how many speed measurements for each car: 2\n",
      "Please enter the speed measurements for car 1: 5\n",
      "Please enter the speed measurements for car 1: 6\n",
      "Please enter the speed measurements for car 2: 95\n",
      "Please enter the speed measurements for car 2: 100\n"
     ]
    },
    {
     "data": {
      "image/png": "[encoded data removed]",
      "text/plain": [
       "<Figure size 640x480 with 1 Axes>"
      ]
     },
     "metadata": {},
     "output_type": "display_data"
    }
   ],
   "source": [
    "\"\"\"\n",
    "Course: CIS 443-01\n",
    "Program 2\n",
    "Due Date: 3/20/2024\n",
    "Grading ID: SP489\n",
    "\n",
    "This program is for the user to enter in number of car and speeds for each car, \n",
    "then the program will calculate the average speed for each car and place them into categories. \n",
    "Once all the cars have been placed in a category it will then be plotted on a bar graph.\n",
    "The bar graph displays the categories and how many cars fall within each category.\n",
    "\"\"\"\n",
    "\n",
    "import statistics\n",
    "import matplotlib.pyplot as plt\n",
    "import seaborn as sns\n",
    "from matplotlib import animation\n",
    "import sys\n",
    "\n",
    "# Prompts user for number of cars, how many speeds for each car, and the speeds for each car.\n",
    "# Then the values get put into a child list, that then go into the parent list i.e. the 2-d list.\n",
    "def input_car_speeds():\n",
    "    speedsList = []\n",
    "    num_cars = int(input(\"Please enter the number of cars: \"))\n",
    "    num_speed_per_car = int(input(\"Please enter how many speed measurements for each car: \" ))\n",
    "    for num in range(num_cars):\n",
    "        car_speed_list = []\n",
    "        for i in range(num_speed_per_car):\n",
    "            speed_measure = int(input(f'Please enter the speed measurements for car {num+1}: '))\n",
    "            car_speed_list.append(speed_measure)\n",
    "        speedsList.append(car_speed_list)\n",
    "    return speedsList\n",
    "\n",
    "# Speed for each car gets averaged. The average for the car gets places into one of the categories based on the avg speed.\n",
    "# Under each if and elif there is a counter keeping track of how many cars goes under each category.\n",
    "def summarize_cars(speedsList):\n",
    "    parking = 0\n",
    "    resident = 0\n",
    "    county = 0\n",
    "    state = 0\n",
    "    interstate = 0\n",
    "    felony = 0\n",
    "    for car in speedsList:\n",
    "        avg_speed = statistics.mean(car)\n",
    "        if avg_speed < 11:\n",
    "            parking += 1\n",
    "        elif avg_speed < 26:\n",
    "            resident += 1\n",
    "        elif avg_speed < 46:\n",
    "            county += 1\n",
    "        elif avg_speed < 56:\n",
    "            state += 1\n",
    "        elif avg_speed < 86:\n",
    "            interstate += 1\n",
    "        elif avg_speed >= 86:\n",
    "            felony += 1\n",
    "    categories = [\"Parking Lot\", \"Residential Street\", \"County Road\", \"State Highway\", \"Interstate Highway\",\"Felony Speeding\"]\n",
    "    count = [parking, resident, county, state, interstate, felony]\n",
    "    return categories, count\n",
    "\n",
    "# Function call\n",
    "car = input_car_speeds()\n",
    "categories, count = summarize_cars(car)\n",
    "\n",
    "# Creates the bar plot \n",
    "plt.cla()\n",
    "plt.rc('font', size=7) \n",
    "plt.rc('axes', labelsize=6)\n",
    "axes = sns.barplot(x = categories, y = count, palette = 'bright')\n",
    "axes.set_title('Categorizing Car Speeds')\n",
    "axes.set(xlabel='Category', ylabel ='Count')\n",
    "axes.set_ylim(top=max(count)*1.10)\n",
    "plt.show()\n"
   ]
  }
 ],
 "metadata": {
  "kernelspec": {
   "display_name": "Python 3 (ipykernel)",
   "language": "python",
   "name": "python3"
  },
  "language_info": {
   "codemirror_mode": {
    "name": "ipython",
    "version": 3
   },
   "file_extension": ".py",
   "mimetype": "text/x-python",
   "name": "python",
   "nbconvert_exporter": "python",
   "pygments_lexer": "ipython3",
   "version": "3.11.5"
  }
 },
 "nbformat": 4,
 "nbformat_minor": 5
}
